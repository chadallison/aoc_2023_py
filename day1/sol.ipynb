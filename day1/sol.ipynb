{
 "cells": [
  {
   "cell_type": "code",
   "execution_count": 65,
   "metadata": {},
   "outputs": [],
   "source": [
    "import pandas as pd"
   ]
  },
  {
   "cell_type": "code",
   "execution_count": 72,
   "metadata": {},
   "outputs": [],
   "source": [
    "with open(\"input.txt\", \"r\") as f:\n",
    "    lines = [line.strip() for line in f.readlines()]\n",
    "\n",
    "data = pd.DataFrame({\"line\": lines})"
   ]
  },
  {
   "cell_type": "code",
   "execution_count": 70,
   "metadata": {},
   "outputs": [
    {
     "name": "stdout",
     "output_type": "stream",
     "text": [
      "part 1 solution: 54304\n"
     ]
    }
   ],
   "source": [
    "# part 1\n",
    "data[\"first\"] = data.line.str.extract(r\"(\\d)\")\n",
    "data[\"final\"] = data.line.str.extract(r\".*(\\d)\")\n",
    "data[\"combined\"] = data[\"first\"] + data[\"final\"]\n",
    "data.combined = data.combined.astype(\"int\")\n",
    "\n",
    "print(f\"part 1 solution: {sum(data.combined)}\")"
   ]
  },
  {
   "cell_type": "code",
   "execution_count": 71,
   "metadata": {},
   "outputs": [
    {
     "name": "stdout",
     "output_type": "stream",
     "text": [
      "part 2 solution: 54418\n"
     ]
    }
   ],
   "source": [
    "# part 2\n",
    "data = data[[\"line\"]]\n",
    "data[\"first\"] = data.line.str.extract(r\"(\\d|one|two|three|four|five|six|seven|eight|nine|zero)\")\n",
    "data[\"final\"] = data.line.str.extract(r\".*(\\d|one|two|three|four|five|six|seven|eight|nine|zero)\")\n",
    "\n",
    "mapping = {\"one\": \"1\", \"two\": \"2\", \"three\": \"3\", \"four\": \"4\", \"five\": \"5\",\n",
    "           \"six\": \"6\", \"seven\": \"7\", \"eight\": \"8\", \"nine\": \"9\", \"zero\": \"0\"}\n",
    "\n",
    "data[\"first\"] = data[\"first\"].map(mapping).fillna(data[\"first\"])\n",
    "data[\"final\"] = data[\"final\"].map(mapping).fillna(data[\"final\"])\n",
    "data[\"combined\"] = data[\"first\"] + data[\"final\"]\n",
    "data[\"combined\"] = data[\"combined\"].astype(\"int\")\n",
    "\n",
    "print(f\"part 2 solution: {sum(data.combined)}\")"
   ]
  },
  {
   "cell_type": "code",
   "execution_count": 73,
   "metadata": {},
   "outputs": [
    {
     "name": "stdout",
     "output_type": "stream",
     "text": [
      "part 1 solution: 54304\n",
      "part 2 solution: 54418\n"
     ]
    }
   ],
   "source": [
    "# all as one cell\n",
    "import pandas as pd\n",
    "\n",
    "with open(\"input.txt\", \"r\") as f:\n",
    "    lines = [line.strip() for line in f.readlines()]\n",
    "\n",
    "data = pd.DataFrame({\"line\": lines})\n",
    "\n",
    "# part 1\n",
    "data[\"first\"] = data.line.str.extract(r\"(\\d)\")\n",
    "data[\"final\"] = data.line.str.extract(r\".*(\\d)\")\n",
    "data[\"combined\"] = data[\"first\"] + data[\"final\"]\n",
    "data.combined = data.combined.astype(\"int\")\n",
    "\n",
    "print(f\"part 1 solution: {sum(data.combined)}\")\n",
    "\n",
    "# part 2\n",
    "data = data[[\"line\"]]\n",
    "data[\"first\"] = data.line.str.extract(r\"(\\d|one|two|three|four|five|six|seven|eight|nine|zero)\")\n",
    "data[\"final\"] = data.line.str.extract(r\".*(\\d|one|two|three|four|five|six|seven|eight|nine|zero)\")\n",
    "\n",
    "mapping = {\"one\": \"1\", \"two\": \"2\", \"three\": \"3\", \"four\": \"4\", \"five\": \"5\",\n",
    "           \"six\": \"6\", \"seven\": \"7\", \"eight\": \"8\", \"nine\": \"9\", \"zero\": \"0\"}\n",
    "\n",
    "data[\"first\"] = data[\"first\"].map(mapping).fillna(data[\"first\"])\n",
    "data[\"final\"] = data[\"final\"].map(mapping).fillna(data[\"final\"])\n",
    "data[\"combined\"] = data[\"first\"] + data[\"final\"]\n",
    "data[\"combined\"] = data[\"combined\"].astype(\"int\")\n",
    "\n",
    "print(f\"part 2 solution: {sum(data.combined)}\")"
   ]
  }
 ],
 "metadata": {
  "kernelspec": {
   "display_name": "Python 3",
   "language": "python",
   "name": "python3"
  },
  "language_info": {
   "codemirror_mode": {
    "name": "ipython",
    "version": 3
   },
   "file_extension": ".py",
   "mimetype": "text/x-python",
   "name": "python",
   "nbconvert_exporter": "python",
   "pygments_lexer": "ipython3",
   "version": "3.12.0"
  }
 },
 "nbformat": 4,
 "nbformat_minor": 2
}
