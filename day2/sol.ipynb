{
 "cells": [
  {
   "cell_type": "code",
   "execution_count": 108,
   "metadata": {},
   "outputs": [
    {
     "name": "stdout",
     "output_type": "stream",
     "text": [
      "part 1 solution: 2685\n",
      "part 2 solution: 83707\n"
     ]
    }
   ],
   "source": [
    "import numpy as np\n",
    "import pandas as pd\n",
    "\n",
    "with open(\"input.txt\", \"r\") as f:\n",
    "    games = [x.strip() for x in f.readlines()]\n",
    "\n",
    "df = pd.DataFrame({\"line\": games})\n",
    "\n",
    "df[[\"game\", \"values\"]] = df[\"line\"].str.split(\": \", n = 1, expand = True)\n",
    "df = df.drop(\"line\", axis = 1)\n",
    "\n",
    "df[\"game\"] = df[\"game\"].str.replace(\"Game \", \"\", regex = False).astype(\"int\")\n",
    "\n",
    "df = df.assign(values = df[\"values\"].str.split(\"; \")).explode(\"values\").reset_index(drop = True)\n",
    "\n",
    "df[\"round\"] = df.index + 1\n",
    "\n",
    "df = df.assign(values = df[\"values\"].str.split(\", \")).explode(\"values\").reset_index(drop = True)\n",
    "\n",
    "df[[\"num\", \"color\"]] = df[\"values\"].str.split(\" \", n = 1, expand = True)\n",
    "df = df.drop(\"values\", axis = 1)\n",
    "df[\"num\"] = df[\"num\"].astype(\"int\")\n",
    "df = df[[\"game\", \"round\", \"color\", \"num\"]]\n",
    "\n",
    "# part 1\n",
    "conditions = [\n",
    "    (df[\"color\"] == \"blue\") & (df[\"num\"] <= 14),\n",
    "    (df[\"color\"] == \"green\") & (df[\"num\"] <= 13),\n",
    "    (df[\"color\"] == \"red\") & (df[\"num\"] <= 12)\n",
    "]\n",
    "\n",
    "choices = [True, True, True]\n",
    "\n",
    "df[\"possible\"] = np.select(conditions, choices, default = False)\n",
    "\n",
    "grouped = df.groupby(\"game\").agg(n = (\"game\", \"count\"), possible = (\"possible\", \"sum\")).reset_index()\n",
    "\n",
    "p1 = grouped[grouped.n == grouped.possible].game.sum()\n",
    "\n",
    "print(f\"part 1 solution: {p1}\")\n",
    "\n",
    "# part 2\n",
    "spread = df.groupby([\"game\", \"color\"]).agg(max = (\"num\", \"max\")).reset_index().pivot(index = \"game\", columns = \"color\", values = \"max\").reset_index()\n",
    "\n",
    "spread[\"prod\"] = spread[\"blue\"] * spread[\"green\"] * spread[\"red\"]\n",
    "\n",
    "p2 = spread[\"prod\"].sum()\n",
    "\n",
    "print(f\"part 2 solution: {p2}\")"
   ]
  }
 ],
 "metadata": {
  "kernelspec": {
   "display_name": "Python 3",
   "language": "python",
   "name": "python3"
  },
  "language_info": {
   "codemirror_mode": {
    "name": "ipython",
    "version": 3
   },
   "file_extension": ".py",
   "mimetype": "text/x-python",
   "name": "python",
   "nbconvert_exporter": "python",
   "pygments_lexer": "ipython3",
   "version": "3.12.0"
  }
 },
 "nbformat": 4,
 "nbformat_minor": 2
}
