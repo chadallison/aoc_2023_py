{
 "cells": [
  {
   "cell_type": "code",
   "execution_count": 5,
   "metadata": {},
   "outputs": [
    {
     "name": "stdout",
     "output_type": "stream",
     "text": [
      "part 1 : 250232501\n",
      "part 2 : 249138943\n"
     ]
    }
   ],
   "source": [
    "import collections\n",
    "\n",
    "lines = [i for i in open(\"input.txt\").read().split(\"\\n\") if i.strip()]\n",
    "\n",
    "def hand(h, part1):\n",
    "    if part1: h = h.replace(\"J\", \"X\")\n",
    "    h2 = [\"J23456789TXQKA\".index(i) for i in h]\n",
    "    ts = []\n",
    "    for r in \"23456789TQKA\":\n",
    "        c = collections.Counter(h.replace(\"J\", r))\n",
    "        p = tuple(sorted(c.values()))\n",
    "        t = [(1, 1, 1, 1, 1), (1, 1, 1, 2), (1, 2, 2), (1, 1, 3), (2, 3), (1, 4), (5, )].index(p)\n",
    "        ts.append(t)\n",
    "    return(max(ts), *h2)\n",
    "\n",
    "for part1 in (True, False):\n",
    "    h = sorted((hand(h, part1), int(b)) for h, b in (l.split() for l in lines))\n",
    "    t = 0\n",
    "    for i, (_, b) in enumerate(h):\n",
    "        t += i * b + b\n",
    "    print(\"part\", 2 - part1, \":\", t)"
   ]
  }
 ],
 "metadata": {
  "kernelspec": {
   "display_name": "Python 3",
   "language": "python",
   "name": "python3"
  },
  "language_info": {
   "codemirror_mode": {
    "name": "ipython",
    "version": 3
   },
   "file_extension": ".py",
   "mimetype": "text/x-python",
   "name": "python",
   "nbconvert_exporter": "python",
   "pygments_lexer": "ipython3",
   "version": "3.12.0"
  }
 },
 "nbformat": 4,
 "nbformat_minor": 2
}
