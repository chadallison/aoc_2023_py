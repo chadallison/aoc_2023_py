{
 "cells": [
  {
   "cell_type": "code",
   "execution_count": 2,
   "metadata": {},
   "outputs": [
    {
     "name": "stdout",
     "output_type": "stream",
     "text": [
      "37806486\n"
     ]
    }
   ],
   "source": [
    "seeds, *maps = open('input.txt').read().split('\\n\\n')\n",
    "seeds = [int(seed) for seed in seeds.split()[1:]]\n",
    "maps = [[list(map(int, line.split())) for line in m.splitlines()[1:]] for m in maps]\n",
    "\n",
    "locations = []\n",
    "for i in range(0, len(seeds), 2):\n",
    "    ranges = [[seeds[i], seeds[i + 1] + seeds[i]]]\n",
    "    results = []\n",
    "    for _map in maps:\n",
    "        while ranges:\n",
    "            start_range, end_range = ranges.pop()\n",
    "            for target, start_map, r in _map:\n",
    "                end_map = start_map + r\n",
    "                offset = target - start_map\n",
    "                if end_map <= start_range or end_range <= start_map:  # no overlap\n",
    "                    continue\n",
    "                if start_range < start_map:\n",
    "                    ranges.append([start_range, start_map])\n",
    "                    start_range = start_map\n",
    "                if end_map < end_range:\n",
    "                    ranges.append([end_map, end_range])\n",
    "                    end_range = end_map\n",
    "                results.append([start_range + offset, end_range + offset])\n",
    "                break\n",
    "            else:\n",
    "                results.append([start_range, end_range])\n",
    "        ranges = results\n",
    "        results = []\n",
    "    locations += ranges\n",
    "print(min(loc[0] for loc in locations))"
   ]
  }
 ],
 "metadata": {
  "kernelspec": {
   "display_name": "Python 3",
   "language": "python",
   "name": "python3"
  },
  "language_info": {
   "codemirror_mode": {
    "name": "ipython",
    "version": 3
   },
   "file_extension": ".py",
   "mimetype": "text/x-python",
   "name": "python",
   "nbconvert_exporter": "python",
   "pygments_lexer": "ipython3",
   "version": "3.12.0"
  }
 },
 "nbformat": 4,
 "nbformat_minor": 2
}
